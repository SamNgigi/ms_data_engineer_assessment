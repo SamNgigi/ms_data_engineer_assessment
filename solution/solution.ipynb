{
 "cells": [
  {
   "cell_type": "code",
   "execution_count": 1,
   "metadata": {},
   "outputs": [],
   "source": [
    "import pandas as pd\n",
    "import numpy as np\n",
    "import matplotlib.pyplot as plt\n",
    "import seaborn as sns\n",
    "\n",
    "import dshai.utils as ds\n",
    "\n",
    "import gspread\n",
    "from oauth2client.service_account import ServiceAccountCredentials as SAC\n",
    "\n"
   ]
  },
  {
   "cell_type": "code",
   "execution_count": 2,
   "metadata": {},
   "outputs": [
    {
     "name": "stdout",
     "output_type": "stream",
     "text": [
      "Hello World!\n"
     ]
    }
   ],
   "source": [
    "# ds.hello()\n",
    "ds.hello()"
   ]
  },
  {
   "cell_type": "code",
   "execution_count": 3,
   "metadata": {},
   "outputs": [
    {
     "name": "stdout",
     "output_type": "stream",
     "text": [
      "/home/jedi/Desktop/dev_ds/ms_data_engineer_assessment/solution\r\n"
     ]
    }
   ],
   "source": [
    "!pwd"
   ]
  },
  {
   "cell_type": "code",
   "execution_count": 4,
   "metadata": {},
   "outputs": [
    {
     "data": {
      "text/plain": [
       "<gspread.client.Client at 0x7ff4ee297dd0>"
      ]
     },
     "execution_count": 4,
     "metadata": {},
     "output_type": "execute_result"
    }
   ],
   "source": [
    "SCOPES = ['https://www.googleapis.com/auth/spreadsheets']\n",
    "creds = SAC.from_json_keyfile_name(\n",
    "            'gspread-270619-05d12e0e0262.json', SCOPES)\n",
    "\n",
    "gsp = gspread.authorize(creds)\n",
    "\n",
    "gsp"
   ]
  },
  {
   "cell_type": "code",
   "execution_count": 5,
   "metadata": {},
   "outputs": [],
   "source": [
    "base_url = 'https://docs.google.com/spreadsheets/d'\n",
    "sheet_id = '1ZtGa3ykeYOK_WvE7JHoGX_zvFE4drfaHVTqtKWZ69L8'\n",
    "\n",
    "\n"
   ]
  },
  {
   "cell_type": "code",
   "execution_count": 6,
   "metadata": {},
   "outputs": [
    {
     "data": {
      "text/plain": [
       "<Spreadsheet 'jedi_hogwarts_admissions' id:1ZtGa3ykeYOK_WvE7JHoGX_zvFE4drfaHVTqtKWZ69L8>"
      ]
     },
     "execution_count": 6,
     "metadata": {},
     "output_type": "execute_result"
    }
   ],
   "source": [
    "gsp.open_by_url(f'{base_url}/{sheet_id}')"
   ]
  },
  {
   "cell_type": "markdown",
   "metadata": {},
   "source": [
    "## Loading the data from google sheets\n",
    "\n",
    "This fetches the raw data from google spread sheets. The API call takes some time so we run it once. We can run it again if data is updated"
   ]
  },
  {
   "cell_type": "code",
   "execution_count": 7,
   "metadata": {},
   "outputs": [],
   "source": [
    "from flask_apps.services.resources.gspread_service import GspreadService\n",
    "from flask_apps.services.resources.abstract_resource import AbstractSpreadSheetResource\n",
    "\n",
    "from flask_apps.services.resources.admissions.ApplicationsRes import AllApplicationsResource\n",
    "from flask_apps.services.resources.admissions.ClassRes import ClassResource\n",
    "from flask_apps.services.resources.admissions.StudentsClassRes import StudentsClassResource\n",
    "\n",
    "from flask_apps.services.resources.enrollments.ModulesRes import ModulesResource \n",
    "from flask_apps.services.resources.enrollments.BaseClassByModuleRes import BaseClassByModuleRes\n",
    "\n",
    "from flask_apps.services.resources.outcomes.OutcomesRes import OutcomesResource"
   ]
  },
  {
   "cell_type": "code",
   "execution_count": 8,
   "metadata": {},
   "outputs": [
    {
     "name": "stderr",
     "output_type": "stream",
     "text": [
      "/home/jedi/anaconda3/envs/r_env/lib/python3.7/site-packages/pandas/core/frame.py:2963: SettingWithCopyWarning: \n",
      "A value is trying to be set on a copy of a slice from a DataFrame.\n",
      "Try using .loc[row_indexer,col_indexer] = value instead\n",
      "\n",
      "See the caveats in the documentation: https://pandas.pydata.org/pandas-docs/stable/user_guide/indexing.html#returning-a-view-versus-a-copy\n",
      "  self[k1] = value[k2]\n"
     ]
    }
   ],
   "source": [
    "all_applications = AllApplicationsResource()\n",
    "all_applications.fetch()\n",
    "all_applications.process()"
   ]
  },
  {
   "cell_type": "code",
   "execution_count": 9,
   "metadata": {},
   "outputs": [
    {
     "data": {
      "text/plain": [
       "(6496, 8)"
      ]
     },
     "execution_count": 9,
     "metadata": {},
     "output_type": "execute_result"
    }
   ],
   "source": [
    "all_applications.parsed_data['all_applications'].shape"
   ]
  },
  {
   "cell_type": "code",
   "execution_count": 10,
   "metadata": {},
   "outputs": [],
   "source": [
    "# class_ = ClassResource()\n",
    "# class_.fetch()\n",
    "# class_.process()"
   ]
  },
  {
   "cell_type": "code",
   "execution_count": 11,
   "metadata": {},
   "outputs": [],
   "source": [
    "# student_class = StudentsClassResource()\n",
    "# student_class.fetch()\n",
    "# student_class.process()"
   ]
  },
  {
   "cell_type": "code",
   "execution_count": 12,
   "metadata": {},
   "outputs": [],
   "source": [
    "# modules = ModulesResource()\n",
    "# modules.fetch()\n",
    "# modules.process()"
   ]
  },
  {
   "cell_type": "code",
   "execution_count": 13,
   "metadata": {},
   "outputs": [],
   "source": [
    "# class_byMod = BaseClassByModuleRes()\n",
    "# class_byMod.fetch()\n",
    "# class_byMod.process()"
   ]
  },
  {
   "cell_type": "code",
   "execution_count": 14,
   "metadata": {},
   "outputs": [],
   "source": [
    "# outcomes = OutcomesResource()\n",
    "# outcomes.fetch()\n",
    "# outcomes.process()\n"
   ]
  },
  {
   "cell_type": "code",
   "execution_count": 15,
   "metadata": {},
   "outputs": [],
   "source": [
    "# type(outcomes.parsed_data)\n",
    "import pickle\n",
    "\n",
    "# with open('pickles/all_applications.p', \"wb\") as f:\n",
    "#     pickle.dump(all_applications.parsed_data, f)\n",
    "    \n",
    "# with open('pickles/classes.p', \"wb\") as f:\n",
    "#     pickle.dump(class_.parsed_data, f)\n",
    "\n",
    "# with open('pickles/studentbyclass.p', \"wb\") as f:\n",
    "#     pickle.dump(student_class.parsed_data, f)\n",
    "    \n",
    "# with open('pickles/modules.p', \"wb\") as f:\n",
    "#     pickle.dump(modules.parsed_data, f)\n",
    "    \n",
    "# with open('pickles/classbyMod.p', \"wb\") as f:\n",
    "#     pickle.dump(class_byMod.parsed_data, f)\n",
    "    \n",
    "# with open('pickles/outcomes.p', \"wb\") as f:\n",
    "#     pickle.dump(outcomes.parsed_data, f)\n",
    "    "
   ]
  },
  {
   "cell_type": "code",
   "execution_count": 16,
   "metadata": {},
   "outputs": [],
   "source": [
    "with open('pickles/all_applications.p', \"rb\") as f:\n",
    "    all_applications = pickle.load(f)\n",
    "    \n",
    "with open('pickles/classes.p', \"rb\") as f:\n",
    "    classes = pickle.load(f)\n",
    "\n",
    "with open('pickles/studentbyclass.p', \"rb\") as f:\n",
    "    studentbyclass = pickle.load(f)\n",
    "    \n",
    "with open('pickles/modules.p', \"rb\") as f:\n",
    "    modules = pickle.load(f)\n",
    "    \n",
    "with open('pickles/classbyMod.p', \"rb\") as f:\n",
    "    classbyMod = pickle.load(f)\n",
    "    \n",
    "with open('pickles/outcomes.p', \"rb\") as f:\n",
    "    outcomes = pickle.load(f)"
   ]
  },
  {
   "cell_type": "code",
   "execution_count": 17,
   "metadata": {},
   "outputs": [
    {
     "data": {
      "text/plain": [
       "(6496, 8)"
      ]
     },
     "execution_count": 17,
     "metadata": {},
     "output_type": "execute_result"
    }
   ],
   "source": [
    "all_applications['all_applications'].shape\n",
    "# classes\n",
    "# studentbyclass\n",
    "# modules\n",
    "# classbyMod\n",
    "# outcomes"
   ]
  },
  {
   "cell_type": "code",
   "execution_count": 18,
   "metadata": {},
   "outputs": [],
   "source": [
    "all_apps = all_applications['all_applications'].copy()\n",
    "all_apps[['first_name', 'last_name']] = all_apps['name'].str.split(pat=' ', expand=True)[[0, 1]]"
   ]
  },
  {
   "cell_type": "code",
   "execution_count": 19,
   "metadata": {},
   "outputs": [
    {
     "data": {
      "text/plain": [
       "(6496, 8)"
      ]
     },
     "execution_count": 19,
     "metadata": {},
     "output_type": "execute_result"
    }
   ],
   "source": [
    "all_apps.shape"
   ]
  },
  {
   "cell_type": "code",
   "execution_count": 20,
   "metadata": {},
   "outputs": [
    {
     "data": {
      "text/plain": [
       "0\n",
       "name          object\n",
       "email         object\n",
       "gender        object\n",
       "phone         object\n",
       "class         object\n",
       "date          object\n",
       "first_name    object\n",
       "last_name     object\n",
       "dtype: object"
      ]
     },
     "execution_count": 20,
     "metadata": {},
     "output_type": "execute_result"
    }
   ],
   "source": [
    "all_apps.dtypes"
   ]
  },
  {
   "cell_type": "code",
   "execution_count": 21,
   "metadata": {},
   "outputs": [
    {
     "name": "stdout",
     "output_type": "stream",
     "text": [
      "classes             :        12, 4\n",
      "all_applications    :      6496, 8\n",
      "HC_1_students       :       400, 3\n",
      "HC_2_students       :       400, 3\n",
      "HC_3_students       :       400, 3\n",
      "HC_4_students       :       400, 3\n",
      "HC_5_students       :       400, 3\n",
      "HC_6_students       :       400, 3\n",
      "HC_7_students       :       400, 3\n",
      "HC_8_students       :       400, 3\n",
      "HC_9_students       :       400, 3\n",
      "HC_10_students      :       400, 3\n",
      "HC_11_students      :       400, 3\n",
      "HC_12_students      :       400, 3\n"
     ]
    }
   ],
   "source": [
    "clean_resources = [classes, all_applications, studentbyclass]\n",
    "# # for k, v in raw_admissions.items():\n",
    "# #         print(f\"{k:<20}:{v.shape[0]:>10}, {v.shape[1]:}\")\n",
    "\n",
    "for i in clean_resources:\n",
    "    for k, v in i.items():\n",
    "        print(f\"{k:<20}:{v.shape[0]:>10}, {v.shape[1]:}\")"
   ]
  },
  {
   "cell_type": "code",
   "execution_count": 22,
   "metadata": {},
   "outputs": [
    {
     "name": "stdout",
     "output_type": "stream",
     "text": [
      "ClassResource\n",
      "AllApplicationsResource\n",
      "StudentsClassResource\n"
     ]
    }
   ],
   "source": [
    "resources = [\"ClassResource\", \"AllApplicationsResource\", \"StudentsClassResource\"]\n",
    "\n",
    "for i in range(len(resources)):\n",
    "    print(resources[i])"
   ]
  },
  {
   "cell_type": "code",
   "execution_count": 23,
   "metadata": {},
   "outputs": [],
   "source": [
    "from flask_apps.models.AbstractModel import AbstractModel\n",
    "from flask_apps.models.Classes import Classes\n",
    "from flask_apps.models.Classes import ClassesSql\n",
    "\n",
    "from flask_apps.services.db.db_handler import PostgresDBService\n",
    "import psycopg2 "
   ]
  },
  {
   "cell_type": "code",
   "execution_count": 24,
   "metadata": {},
   "outputs": [
    {
     "data": {
      "text/plain": [
       "{'id': None,\n",
       " 'name': 'HC_1',\n",
       " 'code': 'HC_1_2009-02-03_2009-07-21',\n",
       " 'start_date': '2009-02-03',\n",
       " 'end_date': '2009-07-21'}"
      ]
     },
     "execution_count": 24,
     "metadata": {},
     "output_type": "execute_result"
    }
   ],
   "source": [
    "classes_ = classes['classes'].copy()\n",
    "classes_[['start_date', 'end_date']] = classes_['code'].str.rsplit(pat='_', n=2, expand=True)[[1, 2]]\n",
    "\n",
    "\n",
    "cls_sql = ClassesSql()\n",
    "\n",
    "cls_indx0 = classes['classes'].iloc[0]\n",
    "cls_indx1 = classes['classes'].iloc[1]\n",
    "\n",
    "clss0 = Classes(cls_indx0['name'], cls_indx0['code'],cls_indx0['start_date'],cls_indx0['end_date'])\n",
    "clss1 = Classes(cls_indx1['name'], cls_indx1['code'],cls_indx1['start_date'],cls_indx1['end_date'])\n",
    "\n",
    "clss0.__dict__"
   ]
  },
  {
   "cell_type": "code",
   "execution_count": 25,
   "metadata": {},
   "outputs": [
    {
     "data": {
      "text/plain": [
       "{'id': None,\n",
       " 'name': 'HC_2',\n",
       " 'code': 'HC_2_2010-04-24_2010-10-09',\n",
       " 'start_date': '2010-04-24',\n",
       " 'end_date': '2010-10-09'}"
      ]
     },
     "execution_count": 25,
     "metadata": {},
     "output_type": "execute_result"
    }
   ],
   "source": [
    "clss1.__dict__"
   ]
  },
  {
   "cell_type": "code",
   "execution_count": 26,
   "metadata": {},
   "outputs": [
    {
     "name": "stdout",
     "output_type": "stream",
     "text": [
      "{'message': 'Cohort aleady exists'}\n"
     ]
    }
   ],
   "source": [
    "cls_sql.save(clss0)"
   ]
  },
  {
   "cell_type": "code",
   "execution_count": 27,
   "metadata": {},
   "outputs": [
    {
     "name": "stdout",
     "output_type": "stream",
     "text": [
      "{'message': 'Cohort aleady exists'}\n"
     ]
    }
   ],
   "source": [
    "cls_sql.save(clss1)"
   ]
  },
  {
   "cell_type": "code",
   "execution_count": 28,
   "metadata": {},
   "outputs": [
    {
     "name": "stdout",
     "output_type": "stream",
     "text": [
      "{'message': 'Cohort aleady exists'}\n"
     ]
    }
   ],
   "source": [
    "cls_sql.get_by_name(cls_indx0['name'])\n",
    "cls_sql.save(clss0)\n",
    "cls_sql.get_by_id(1)\n",
    "clss0.id\n",
    "classes_ = cls_sql.get_all()"
   ]
  },
  {
   "cell_type": "code",
   "execution_count": 29,
   "metadata": {},
   "outputs": [
    {
     "data": {
      "text/plain": [
       "rec.array([(1, 'HC_1', 'HC_1_2009-02-03_2009-07-21', '2009-02-03', '2009-07-21'),\n",
       "           (2, 'HC_2', 'HC_2_2010-04-24_2010-10-09', '2010-04-24', '2010-10-09')],\n",
       "          dtype=[('index', '<i8'), ('name', 'O'), ('code', 'O'), ('start_date', 'O'), ('end_date', 'O')])"
      ]
     },
     "execution_count": 29,
     "metadata": {},
     "output_type": "execute_result"
    }
   ],
   "source": [
    "test_cls = classes['classes'].iloc[:2]\n",
    "\n",
    "test_cls.to_records()"
   ]
  },
  {
   "cell_type": "code",
   "execution_count": 30,
   "metadata": {},
   "outputs": [
    {
     "data": {
      "text/plain": [
       "dict_keys(['name', 'code', 'start_date', 'end_date'])"
      ]
     },
     "execution_count": 30,
     "metadata": {},
     "output_type": "execute_result"
    }
   ],
   "source": [
    "test_dict = test_cls.to_dict(orient='list')\n",
    "test_dict.keys()"
   ]
  },
  {
   "cell_type": "code",
   "execution_count": 31,
   "metadata": {},
   "outputs": [
    {
     "name": "stdout",
     "output_type": "stream",
     "text": [
      "name\n",
      "code\n",
      "start_date\n",
      "end_date\n"
     ]
    }
   ],
   "source": [
    "for i in test_dict.keys():\n",
    "    print(i)"
   ]
  },
  {
   "cell_type": "code",
   "execution_count": 32,
   "metadata": {},
   "outputs": [
    {
     "data": {
      "text/plain": [
       "dict_keys(['classes'])"
      ]
     },
     "execution_count": 32,
     "metadata": {},
     "output_type": "execute_result"
    }
   ],
   "source": [
    "classes.keys()"
   ]
  },
  {
   "cell_type": "code",
   "execution_count": 33,
   "metadata": {},
   "outputs": [
    {
     "data": {
      "text/plain": [
       "dict_keys(['name', 'code', 'start_date', 'end_date'])"
      ]
     },
     "execution_count": 33,
     "metadata": {},
     "output_type": "execute_result"
    }
   ],
   "source": [
    "anon_test = classes['classes'].to_dict()\n",
    "anon_test.keys()"
   ]
  },
  {
   "cell_type": "code",
   "execution_count": 34,
   "metadata": {},
   "outputs": [
    {
     "data": {
      "text/plain": [
       "dict_keys(['HC_1_students', 'HC_2_students', 'HC_3_students', 'HC_4_students', 'HC_5_students', 'HC_6_students', 'HC_7_students', 'HC_8_students', 'HC_9_students', 'HC_10_students', 'HC_11_students', 'HC_12_students'])"
      ]
     },
     "execution_count": 34,
     "metadata": {},
     "output_type": "execute_result"
    }
   ],
   "source": [
    "studentbyclass.keys()"
   ]
  },
  {
   "cell_type": "code",
   "execution_count": 35,
   "metadata": {},
   "outputs": [
    {
     "data": {
      "text/html": [
       "<div>\n",
       "<style scoped>\n",
       "    .dataframe tbody tr th:only-of-type {\n",
       "        vertical-align: middle;\n",
       "    }\n",
       "\n",
       "    .dataframe tbody tr th {\n",
       "        vertical-align: top;\n",
       "    }\n",
       "\n",
       "    .dataframe thead th {\n",
       "        text-align: right;\n",
       "    }\n",
       "</style>\n",
       "<table border=\"1\" class=\"dataframe\">\n",
       "  <thead>\n",
       "    <tr style=\"text-align: right;\">\n",
       "      <th></th>\n",
       "      <th>name</th>\n",
       "      <th>email</th>\n",
       "      <th>phone</th>\n",
       "    </tr>\n",
       "  </thead>\n",
       "  <tbody>\n",
       "    <tr>\n",
       "      <th>1</th>\n",
       "      <td>Conor Goddard</td>\n",
       "      <td>conorgoddard@gmail.com</td>\n",
       "      <td>0151 496 0067</td>\n",
       "    </tr>\n",
       "    <tr>\n",
       "      <th>2</th>\n",
       "      <td>Joan Jenkins</td>\n",
       "      <td>joanjenkins@yahoo.com</td>\n",
       "      <td>0115 496 0699</td>\n",
       "    </tr>\n",
       "    <tr>\n",
       "      <th>3</th>\n",
       "      <td>Tracy Young</td>\n",
       "      <td>tracyyoung@hotmail.com</td>\n",
       "      <td>(0121)4960644</td>\n",
       "    </tr>\n",
       "    <tr>\n",
       "      <th>4</th>\n",
       "      <td>Dominic Ali</td>\n",
       "      <td>dominicali@yahoo.com</td>\n",
       "      <td>(0909) 879 0555</td>\n",
       "    </tr>\n",
       "    <tr>\n",
       "      <th>5</th>\n",
       "      <td>Clifford Webb</td>\n",
       "      <td>cliffordwebb@hotmail.com</td>\n",
       "      <td>0909 8790740</td>\n",
       "    </tr>\n",
       "    <tr>\n",
       "      <th>...</th>\n",
       "      <td>...</td>\n",
       "      <td>...</td>\n",
       "      <td>...</td>\n",
       "    </tr>\n",
       "    <tr>\n",
       "      <th>396</th>\n",
       "      <td>Nicole Brown</td>\n",
       "      <td>nicolebrown@hotmail.com</td>\n",
       "      <td>+44(0)306 9990975</td>\n",
       "    </tr>\n",
       "    <tr>\n",
       "      <th>397</th>\n",
       "      <td>Lorraine O'Connor</td>\n",
       "      <td>lorraineo'connor@hotmail.com</td>\n",
       "      <td>+44131 4960600</td>\n",
       "    </tr>\n",
       "    <tr>\n",
       "      <th>398</th>\n",
       "      <td>Frederick Hobbs</td>\n",
       "      <td>frederickhobbs@hotmail.com</td>\n",
       "      <td>+44909 879 0484</td>\n",
       "    </tr>\n",
       "    <tr>\n",
       "      <th>399</th>\n",
       "      <td>Amy Wells</td>\n",
       "      <td>amywells@hotmail.com</td>\n",
       "      <td>+44(0)1184960339</td>\n",
       "    </tr>\n",
       "    <tr>\n",
       "      <th>400</th>\n",
       "      <td>Tom Davies</td>\n",
       "      <td>tomdavies@gmail.com</td>\n",
       "      <td>(0141) 496 0698</td>\n",
       "    </tr>\n",
       "  </tbody>\n",
       "</table>\n",
       "<p>400 rows × 3 columns</p>\n",
       "</div>"
      ],
      "text/plain": [
       "0                 name                         email              phone\n",
       "1        Conor Goddard        conorgoddard@gmail.com      0151 496 0067\n",
       "2         Joan Jenkins         joanjenkins@yahoo.com      0115 496 0699\n",
       "3          Tracy Young        tracyyoung@hotmail.com      (0121)4960644\n",
       "4          Dominic Ali          dominicali@yahoo.com    (0909) 879 0555\n",
       "5        Clifford Webb      cliffordwebb@hotmail.com       0909 8790740\n",
       "..                 ...                           ...                ...\n",
       "396       Nicole Brown       nicolebrown@hotmail.com  +44(0)306 9990975\n",
       "397  Lorraine O'Connor  lorraineo'connor@hotmail.com     +44131 4960600\n",
       "398    Frederick Hobbs    frederickhobbs@hotmail.com    +44909 879 0484\n",
       "399          Amy Wells          amywells@hotmail.com   +44(0)1184960339\n",
       "400         Tom Davies           tomdavies@gmail.com    (0141) 496 0698\n",
       "\n",
       "[400 rows x 3 columns]"
      ]
     },
     "execution_count": 35,
     "metadata": {},
     "output_type": "execute_result"
    }
   ],
   "source": [
    "studentbyclass['HC_1_students']"
   ]
  },
  {
   "cell_type": "code",
   "execution_count": 36,
   "metadata": {},
   "outputs": [],
   "source": [
    "hc  = 'HC_14_students'"
   ]
  },
  {
   "cell_type": "code",
   "execution_count": 37,
   "metadata": {},
   "outputs": [
    {
     "data": {
      "text/plain": [
       "'HC_14'"
      ]
     },
     "execution_count": 37,
     "metadata": {},
     "output_type": "execute_result"
    }
   ],
   "source": [
    "hc.rsplit('_', 1)[0]"
   ]
  },
  {
   "cell_type": "code",
   "execution_count": 38,
   "metadata": {},
   "outputs": [],
   "source": [
    "from flask_apps.models.Admissions import Admissions, AdmissionsSql\n",
    "from flask_apps.models.People import People, PeopleSql\n",
    "from flask_apps.models.Outcomes import Outcomes, OutcomesSql\n",
    "\n",
    "people_sql = PeopleSql()\n",
    "classes_sql = ClassesSql()\n",
    "admissions_sql = AdmissionsSql()\n",
    "outcomes_sql = OutcomesSql()"
   ]
  },
  {
   "cell_type": "code",
   "execution_count": 39,
   "metadata": {},
   "outputs": [
    {
     "name": "stdout",
     "output_type": "stream",
     "text": [
      "conorgoddard@gmail.com\n",
      "joanjenkins@yahoo.com\n",
      "jaynebrown@gmail.com\n",
      "traceyabbott@gmail.com\n",
      "arthuredwards@gmail.com\n",
      "lisacartwright@gmail.com\n",
      "zoehopkins@hotmail.com\n",
      "eileenhowell@gmail.com\n",
      "leslieharris@hotmail.com\n",
      "paulrowley@gmail.com\n",
      "cameronwells@yahoo.com\n",
      "martynbruce@yahoo.com\n",
      "deniseroberts@hotmail.com\n",
      "rhyshutchinsonZ@gmail.com\n",
      "teresawong@yahoo.com\n",
      "joanrobinson@yahoo.com\n",
      "geraldhunt@gmail.com\n",
      "joelleonard@hotmail.com\n",
      "marcusbryan@yahoo.com\n",
      "teresathornton@gmail.com\n",
      "barrynorman@hotmail.com\n",
      "leighroberts@gmail.com\n",
      "colinsmith@yahoo.com\n",
      "francescawalsh@yahoo.com\n"
     ]
    }
   ],
   "source": [
    "\n",
    "# admission_lst = []\n",
    "\n",
    "for sheet in studentbyclass.keys():\n",
    "    \n",
    "    \n",
    "    admissions_res = studentbyclass[sheet].to_dict(orient='records')\n",
    "    \n",
    "    for entry in admissions_res[:2]:\n",
    "        class_name = sheet.rsplit('_',1)[0]\n",
    "        email = entry.get('email')\n",
    "        print(email)\n",
    "        person_obj= people_sql.get_by_email(email)\n",
    "        class_obj= classes_sql.get_by_name(class_name)\n",
    "        \n",
    "#         print(person_obj['first_name'])\n",
    "        \n",
    "    \n",
    "#     for entry in admissions_res"
   ]
  },
  {
   "cell_type": "code",
   "execution_count": 40,
   "metadata": {},
   "outputs": [
    {
     "data": {
      "text/plain": [
       "[225, 'Conor', 'Goddard', '0151 496 0067', 'conorgoddard@gmail.com', 'M']"
      ]
     },
     "execution_count": 40,
     "metadata": {},
     "output_type": "execute_result"
    }
   ],
   "source": [
    "people_sql.get_by_email('conorgoddard@gmail.com')"
   ]
  },
  {
   "cell_type": "code",
   "execution_count": 41,
   "metadata": {},
   "outputs": [],
   "source": [
    "# admissions_res = studentbyclass['HC_1_students'].to_dict(orient='records')\n",
    "\n",
    "# admissions_res[:5]"
   ]
  },
  {
   "cell_type": "code",
   "execution_count": 42,
   "metadata": {},
   "outputs": [
    {
     "data": {
      "text/plain": [
       "[979, 'Jayne', 'Brown', '(0114) 4960032', 'jaynebrown@gmail.com', 'M']"
      ]
     },
     "execution_count": 42,
     "metadata": {},
     "output_type": "execute_result"
    }
   ],
   "source": [
    "people_sql.get_by_email('jaynebrown@gmail.com')"
   ]
  },
  {
   "cell_type": "code",
   "execution_count": 43,
   "metadata": {},
   "outputs": [],
   "source": [
    "from config import configs\n",
    "\n",
    "# test = pd.read_sql_query(sql='SELECT * FROM classes',con=configs['dev'].DATABASE_URI)\n",
    "\n",
    "with psycopg2.connect(configs['dev'].DATABASE_URI) as conn:\n",
    "    test = pd.read_sql_query('SELECT * FROM classes',conn)\n",
    "\n",
    "    "
   ]
  },
  {
   "cell_type": "code",
   "execution_count": 44,
   "metadata": {},
   "outputs": [
    {
     "data": {
      "text/html": [
       "<div>\n",
       "<style scoped>\n",
       "    .dataframe tbody tr th:only-of-type {\n",
       "        vertical-align: middle;\n",
       "    }\n",
       "\n",
       "    .dataframe tbody tr th {\n",
       "        vertical-align: top;\n",
       "    }\n",
       "\n",
       "    .dataframe thead th {\n",
       "        text-align: right;\n",
       "    }\n",
       "</style>\n",
       "<table border=\"1\" class=\"dataframe\">\n",
       "  <thead>\n",
       "    <tr style=\"text-align: right;\">\n",
       "      <th></th>\n",
       "      <th>id</th>\n",
       "      <th>class_name</th>\n",
       "      <th>code</th>\n",
       "      <th>start_date</th>\n",
       "      <th>end_date</th>\n",
       "    </tr>\n",
       "  </thead>\n",
       "  <tbody>\n",
       "    <tr>\n",
       "      <th>0</th>\n",
       "      <td>1</td>\n",
       "      <td>HC_1</td>\n",
       "      <td>HC_1_2009-02-03_2009-07-21</td>\n",
       "      <td>2009-02-03</td>\n",
       "      <td>2009-07-21</td>\n",
       "    </tr>\n",
       "    <tr>\n",
       "      <th>1</th>\n",
       "      <td>2</td>\n",
       "      <td>HC_2</td>\n",
       "      <td>HC_2_2010-04-24_2010-10-09</td>\n",
       "      <td>2010-04-24</td>\n",
       "      <td>2010-10-09</td>\n",
       "    </tr>\n",
       "    <tr>\n",
       "      <th>2</th>\n",
       "      <td>3</td>\n",
       "      <td>HC_3</td>\n",
       "      <td>HC_3_2011-02-14_2011-08-01</td>\n",
       "      <td>2011-02-14</td>\n",
       "      <td>2011-08-01</td>\n",
       "    </tr>\n",
       "    <tr>\n",
       "      <th>3</th>\n",
       "      <td>4</td>\n",
       "      <td>HC_4</td>\n",
       "      <td>HC_4_2012-05-28_2012-11-12</td>\n",
       "      <td>2012-05-28</td>\n",
       "      <td>2012-11-12</td>\n",
       "    </tr>\n",
       "    <tr>\n",
       "      <th>4</th>\n",
       "      <td>5</td>\n",
       "      <td>HC_5</td>\n",
       "      <td>HC_5_2013-01-17_2013-07-04</td>\n",
       "      <td>2013-01-17</td>\n",
       "      <td>2013-07-04</td>\n",
       "    </tr>\n",
       "    <tr>\n",
       "      <th>5</th>\n",
       "      <td>6</td>\n",
       "      <td>HC_6</td>\n",
       "      <td>HC_6_2014-04-05_2014-09-20</td>\n",
       "      <td>2014-04-05</td>\n",
       "      <td>2014-09-20</td>\n",
       "    </tr>\n",
       "    <tr>\n",
       "      <th>6</th>\n",
       "      <td>7</td>\n",
       "      <td>HC_7</td>\n",
       "      <td>HC_7_2015-05-02_2015-10-17</td>\n",
       "      <td>2015-05-02</td>\n",
       "      <td>2015-10-17</td>\n",
       "    </tr>\n",
       "    <tr>\n",
       "      <th>7</th>\n",
       "      <td>8</td>\n",
       "      <td>HC_8</td>\n",
       "      <td>HC_8_2016-05-14_2016-10-29</td>\n",
       "      <td>2016-05-14</td>\n",
       "      <td>2016-10-29</td>\n",
       "    </tr>\n",
       "    <tr>\n",
       "      <th>8</th>\n",
       "      <td>9</td>\n",
       "      <td>HC_9</td>\n",
       "      <td>HC_9_2017-01-07_2017-06-24</td>\n",
       "      <td>2017-01-07</td>\n",
       "      <td>2017-06-24</td>\n",
       "    </tr>\n",
       "    <tr>\n",
       "      <th>9</th>\n",
       "      <td>10</td>\n",
       "      <td>HC_10</td>\n",
       "      <td>HC_10_2018-01-25_2018-07-12</td>\n",
       "      <td>2018-01-25</td>\n",
       "      <td>2018-07-12</td>\n",
       "    </tr>\n",
       "    <tr>\n",
       "      <th>10</th>\n",
       "      <td>11</td>\n",
       "      <td>HC_11</td>\n",
       "      <td>HC_11_2019-07-12_2019-12-27</td>\n",
       "      <td>2019-07-12</td>\n",
       "      <td>2019-12-27</td>\n",
       "    </tr>\n",
       "    <tr>\n",
       "      <th>11</th>\n",
       "      <td>12</td>\n",
       "      <td>HC_12</td>\n",
       "      <td>HC_12_2020-03-12_2020-08-27</td>\n",
       "      <td>2020-03-12</td>\n",
       "      <td>2020-08-27</td>\n",
       "    </tr>\n",
       "  </tbody>\n",
       "</table>\n",
       "</div>"
      ],
      "text/plain": [
       "    id class_name                         code  start_date    end_date\n",
       "0    1       HC_1   HC_1_2009-02-03_2009-07-21  2009-02-03  2009-07-21\n",
       "1    2       HC_2   HC_2_2010-04-24_2010-10-09  2010-04-24  2010-10-09\n",
       "2    3       HC_3   HC_3_2011-02-14_2011-08-01  2011-02-14  2011-08-01\n",
       "3    4       HC_4   HC_4_2012-05-28_2012-11-12  2012-05-28  2012-11-12\n",
       "4    5       HC_5   HC_5_2013-01-17_2013-07-04  2013-01-17  2013-07-04\n",
       "5    6       HC_6   HC_6_2014-04-05_2014-09-20  2014-04-05  2014-09-20\n",
       "6    7       HC_7   HC_7_2015-05-02_2015-10-17  2015-05-02  2015-10-17\n",
       "7    8       HC_8   HC_8_2016-05-14_2016-10-29  2016-05-14  2016-10-29\n",
       "8    9       HC_9   HC_9_2017-01-07_2017-06-24  2017-01-07  2017-06-24\n",
       "9   10      HC_10  HC_10_2018-01-25_2018-07-12  2018-01-25  2018-07-12\n",
       "10  11      HC_11  HC_11_2019-07-12_2019-12-27  2019-07-12  2019-12-27\n",
       "11  12      HC_12  HC_12_2020-03-12_2020-08-27  2020-03-12  2020-08-27"
      ]
     },
     "execution_count": 44,
     "metadata": {},
     "output_type": "execute_result"
    }
   ],
   "source": [
    "test"
   ]
  },
  {
   "cell_type": "code",
   "execution_count": 45,
   "metadata": {},
   "outputs": [],
   "source": [
    "from flask_apps.models.Applications import ApplicationsSql"
   ]
  },
  {
   "cell_type": "code",
   "execution_count": 46,
   "metadata": {},
   "outputs": [],
   "source": [
    "applications_sql = ApplicationsSql()\n",
    "\n",
    "application_df = applications_sql.get_df()"
   ]
  },
  {
   "cell_type": "code",
   "execution_count": 48,
   "metadata": {},
   "outputs": [
    {
     "data": {
      "text/html": [
       "<div>\n",
       "<style scoped>\n",
       "    .dataframe tbody tr th:only-of-type {\n",
       "        vertical-align: middle;\n",
       "    }\n",
       "\n",
       "    .dataframe tbody tr th {\n",
       "        vertical-align: top;\n",
       "    }\n",
       "\n",
       "    .dataframe thead th {\n",
       "        text-align: right;\n",
       "    }\n",
       "</style>\n",
       "<table border=\"1\" class=\"dataframe\">\n",
       "  <thead>\n",
       "    <tr style=\"text-align: right;\">\n",
       "      <th></th>\n",
       "      <th>id</th>\n",
       "      <th>person_id</th>\n",
       "      <th>class_id</th>\n",
       "      <th>date</th>\n",
       "    </tr>\n",
       "  </thead>\n",
       "  <tbody>\n",
       "    <tr>\n",
       "      <th>0</th>\n",
       "      <td>1</td>\n",
       "      <td>1</td>\n",
       "      <td>1</td>\n",
       "      <td>2009-02-01</td>\n",
       "    </tr>\n",
       "    <tr>\n",
       "      <th>1</th>\n",
       "      <td>2</td>\n",
       "      <td>2</td>\n",
       "      <td>1</td>\n",
       "      <td>2009-01-22</td>\n",
       "    </tr>\n",
       "    <tr>\n",
       "      <th>2</th>\n",
       "      <td>3</td>\n",
       "      <td>3</td>\n",
       "      <td>1</td>\n",
       "      <td>2009-01-25</td>\n",
       "    </tr>\n",
       "    <tr>\n",
       "      <th>3</th>\n",
       "      <td>4</td>\n",
       "      <td>4</td>\n",
       "      <td>2</td>\n",
       "      <td>2010-03-20</td>\n",
       "    </tr>\n",
       "    <tr>\n",
       "      <th>4</th>\n",
       "      <td>5</td>\n",
       "      <td>5</td>\n",
       "      <td>1</td>\n",
       "      <td>2009-01-08</td>\n",
       "    </tr>\n",
       "    <tr>\n",
       "      <th>...</th>\n",
       "      <td>...</td>\n",
       "      <td>...</td>\n",
       "      <td>...</td>\n",
       "      <td>...</td>\n",
       "    </tr>\n",
       "    <tr>\n",
       "      <th>6491</th>\n",
       "      <td>6492</td>\n",
       "      <td>6492</td>\n",
       "      <td>12</td>\n",
       "      <td>2020-02-06</td>\n",
       "    </tr>\n",
       "    <tr>\n",
       "      <th>6492</th>\n",
       "      <td>6493</td>\n",
       "      <td>6493</td>\n",
       "      <td>12</td>\n",
       "      <td>2020-02-24</td>\n",
       "    </tr>\n",
       "    <tr>\n",
       "      <th>6493</th>\n",
       "      <td>6494</td>\n",
       "      <td>6494</td>\n",
       "      <td>12</td>\n",
       "      <td>2020-03-07</td>\n",
       "    </tr>\n",
       "    <tr>\n",
       "      <th>6494</th>\n",
       "      <td>6495</td>\n",
       "      <td>6495</td>\n",
       "      <td>12</td>\n",
       "      <td>2020-02-19</td>\n",
       "    </tr>\n",
       "    <tr>\n",
       "      <th>6495</th>\n",
       "      <td>6496</td>\n",
       "      <td>6496</td>\n",
       "      <td>12</td>\n",
       "      <td>2020-02-11</td>\n",
       "    </tr>\n",
       "  </tbody>\n",
       "</table>\n",
       "<p>6496 rows × 4 columns</p>\n",
       "</div>"
      ],
      "text/plain": [
       "        id  person_id  class_id        date\n",
       "0        1          1         1  2009-02-01\n",
       "1        2          2         1  2009-01-22\n",
       "2        3          3         1  2009-01-25\n",
       "3        4          4         2  2010-03-20\n",
       "4        5          5         1  2009-01-08\n",
       "...    ...        ...       ...         ...\n",
       "6491  6492       6492        12  2020-02-06\n",
       "6492  6493       6493        12  2020-02-24\n",
       "6493  6494       6494        12  2020-03-07\n",
       "6494  6495       6495        12  2020-02-19\n",
       "6495  6496       6496        12  2020-02-11\n",
       "\n",
       "[6496 rows x 4 columns]"
      ]
     },
     "execution_count": 48,
     "metadata": {},
     "output_type": "execute_result"
    }
   ],
   "source": [
    "application_df"
   ]
  },
  {
   "cell_type": "code",
   "execution_count": 51,
   "metadata": {},
   "outputs": [
    {
     "data": {
      "text/plain": [
       "id            int64\n",
       "person_id     int64\n",
       "class_id      int64\n",
       "date         object\n",
       "dtype: object"
      ]
     },
     "execution_count": 51,
     "metadata": {},
     "output_type": "execute_result"
    }
   ],
   "source": [
    "application_df.dtypes"
   ]
  },
  {
   "cell_type": "code",
   "execution_count": 53,
   "metadata": {},
   "outputs": [
    {
     "data": {
      "text/plain": [
       "id                    int64\n",
       "person_id             int64\n",
       "class_id              int64\n",
       "date         datetime64[ns]\n",
       "dtype: object"
      ]
     },
     "execution_count": 53,
     "metadata": {},
     "output_type": "execute_result"
    }
   ],
   "source": [
    "application_df['date'] = pd.to_datetime(application_df['date'])\n",
    "application_df.dtypes"
   ]
  },
  {
   "cell_type": "code",
   "execution_count": 54,
   "metadata": {},
   "outputs": [
    {
     "data": {
      "text/html": [
       "<div>\n",
       "<style scoped>\n",
       "    .dataframe tbody tr th:only-of-type {\n",
       "        vertical-align: middle;\n",
       "    }\n",
       "\n",
       "    .dataframe tbody tr th {\n",
       "        vertical-align: top;\n",
       "    }\n",
       "\n",
       "    .dataframe thead th {\n",
       "        text-align: right;\n",
       "    }\n",
       "</style>\n",
       "<table border=\"1\" class=\"dataframe\">\n",
       "  <thead>\n",
       "    <tr style=\"text-align: right;\">\n",
       "      <th></th>\n",
       "      <th>id</th>\n",
       "      <th>person_id</th>\n",
       "      <th>class_id</th>\n",
       "      <th>date</th>\n",
       "      <th>year</th>\n",
       "    </tr>\n",
       "  </thead>\n",
       "  <tbody>\n",
       "    <tr>\n",
       "      <th>0</th>\n",
       "      <td>1</td>\n",
       "      <td>1</td>\n",
       "      <td>1</td>\n",
       "      <td>2009-02-01</td>\n",
       "      <td>2009</td>\n",
       "    </tr>\n",
       "    <tr>\n",
       "      <th>1</th>\n",
       "      <td>2</td>\n",
       "      <td>2</td>\n",
       "      <td>1</td>\n",
       "      <td>2009-01-22</td>\n",
       "      <td>2009</td>\n",
       "    </tr>\n",
       "    <tr>\n",
       "      <th>2</th>\n",
       "      <td>3</td>\n",
       "      <td>3</td>\n",
       "      <td>1</td>\n",
       "      <td>2009-01-25</td>\n",
       "      <td>2009</td>\n",
       "    </tr>\n",
       "    <tr>\n",
       "      <th>3</th>\n",
       "      <td>4</td>\n",
       "      <td>4</td>\n",
       "      <td>2</td>\n",
       "      <td>2010-03-20</td>\n",
       "      <td>2010</td>\n",
       "    </tr>\n",
       "    <tr>\n",
       "      <th>4</th>\n",
       "      <td>5</td>\n",
       "      <td>5</td>\n",
       "      <td>1</td>\n",
       "      <td>2009-01-08</td>\n",
       "      <td>2009</td>\n",
       "    </tr>\n",
       "  </tbody>\n",
       "</table>\n",
       "</div>"
      ],
      "text/plain": [
       "   id  person_id  class_id       date  year\n",
       "0   1          1         1 2009-02-01  2009\n",
       "1   2          2         1 2009-01-22  2009\n",
       "2   3          3         1 2009-01-25  2009\n",
       "3   4          4         2 2010-03-20  2010\n",
       "4   5          5         1 2009-01-08  2009"
      ]
     },
     "execution_count": 54,
     "metadata": {},
     "output_type": "execute_result"
    }
   ],
   "source": [
    "application_df['year'] = application_df['date'].dt.year\n",
    "application_df.head()"
   ]
  },
  {
   "cell_type": "code",
   "execution_count": 50,
   "metadata": {},
   "outputs": [
    {
     "data": {
      "text/plain": [
       "12    617\n",
       "5     590\n",
       "7     548\n",
       "10    547\n",
       "2     547\n",
       "9     538\n",
       "11    537\n",
       "4     521\n",
       "8     520\n",
       "3     514\n",
       "1     509\n",
       "6     508\n",
       "Name: class_id, dtype: int64"
      ]
     },
     "execution_count": 50,
     "metadata": {},
     "output_type": "execute_result"
    }
   ],
   "source": [
    "application_df['class_id'].value_counts()"
   ]
  },
  {
   "cell_type": "code",
   "execution_count": 69,
   "metadata": {},
   "outputs": [],
   "source": [
    "from flask_apps.models.Outcomes import OutcomesSql\n",
    "from flask_apps.models.Classes import ClassesSql\n",
    "\n",
    "\n",
    "outcomes_sql = OutcomesSql()\n",
    "class_sql = ClassesSql()\n",
    "\n",
    "outcomes_df = outcomes_sql.get_df()\n",
    "classes_df = class_sql.get_df()"
   ]
  },
  {
   "cell_type": "code",
   "execution_count": 65,
   "metadata": {},
   "outputs": [
    {
     "name": "stdout",
     "output_type": "stream",
     "text": [
      "(1065, 3)\n"
     ]
    },
    {
     "data": {
      "text/html": [
       "<div>\n",
       "<style scoped>\n",
       "    .dataframe tbody tr th:only-of-type {\n",
       "        vertical-align: middle;\n",
       "    }\n",
       "\n",
       "    .dataframe tbody tr th {\n",
       "        vertical-align: top;\n",
       "    }\n",
       "\n",
       "    .dataframe thead th {\n",
       "        text-align: right;\n",
       "    }\n",
       "</style>\n",
       "<table border=\"1\" class=\"dataframe\">\n",
       "  <thead>\n",
       "    <tr style=\"text-align: right;\">\n",
       "      <th></th>\n",
       "      <th>id</th>\n",
       "      <th>person_id</th>\n",
       "      <th>class_id</th>\n",
       "    </tr>\n",
       "  </thead>\n",
       "  <tbody>\n",
       "    <tr>\n",
       "      <th>0</th>\n",
       "      <td>1</td>\n",
       "      <td>431</td>\n",
       "      <td>1</td>\n",
       "    </tr>\n",
       "    <tr>\n",
       "      <th>1</th>\n",
       "      <td>2</td>\n",
       "      <td>275</td>\n",
       "      <td>1</td>\n",
       "    </tr>\n",
       "    <tr>\n",
       "      <th>2</th>\n",
       "      <td>3</td>\n",
       "      <td>370</td>\n",
       "      <td>1</td>\n",
       "    </tr>\n",
       "    <tr>\n",
       "      <th>3</th>\n",
       "      <td>4</td>\n",
       "      <td>159</td>\n",
       "      <td>1</td>\n",
       "    </tr>\n",
       "    <tr>\n",
       "      <th>4</th>\n",
       "      <td>5</td>\n",
       "      <td>283</td>\n",
       "      <td>1</td>\n",
       "    </tr>\n",
       "  </tbody>\n",
       "</table>\n",
       "</div>"
      ],
      "text/plain": [
       "   id  person_id  class_id\n",
       "0   1        431         1\n",
       "1   2        275         1\n",
       "2   3        370         1\n",
       "3   4        159         1\n",
       "4   5        283         1"
      ]
     },
     "execution_count": 65,
     "metadata": {},
     "output_type": "execute_result"
    }
   ],
   "source": [
    "print(outcomes_df.shape)\n",
    "outcomes_df.head()"
   ]
  },
  {
   "cell_type": "code",
   "execution_count": 66,
   "metadata": {},
   "outputs": [
    {
     "name": "stdout",
     "output_type": "stream",
     "text": [
      "(12, 5)\n"
     ]
    },
    {
     "data": {
      "text/html": [
       "<div>\n",
       "<style scoped>\n",
       "    .dataframe tbody tr th:only-of-type {\n",
       "        vertical-align: middle;\n",
       "    }\n",
       "\n",
       "    .dataframe tbody tr th {\n",
       "        vertical-align: top;\n",
       "    }\n",
       "\n",
       "    .dataframe thead th {\n",
       "        text-align: right;\n",
       "    }\n",
       "</style>\n",
       "<table border=\"1\" class=\"dataframe\">\n",
       "  <thead>\n",
       "    <tr style=\"text-align: right;\">\n",
       "      <th></th>\n",
       "      <th>class_id</th>\n",
       "      <th>class_name</th>\n",
       "      <th>code</th>\n",
       "      <th>start_date</th>\n",
       "      <th>end_date</th>\n",
       "    </tr>\n",
       "  </thead>\n",
       "  <tbody>\n",
       "    <tr>\n",
       "      <th>0</th>\n",
       "      <td>1</td>\n",
       "      <td>HC_1</td>\n",
       "      <td>HC_1_2009-02-03_2009-07-21</td>\n",
       "      <td>2009-02-03</td>\n",
       "      <td>2009-07-21</td>\n",
       "    </tr>\n",
       "    <tr>\n",
       "      <th>1</th>\n",
       "      <td>2</td>\n",
       "      <td>HC_2</td>\n",
       "      <td>HC_2_2010-04-24_2010-10-09</td>\n",
       "      <td>2010-04-24</td>\n",
       "      <td>2010-10-09</td>\n",
       "    </tr>\n",
       "    <tr>\n",
       "      <th>2</th>\n",
       "      <td>3</td>\n",
       "      <td>HC_3</td>\n",
       "      <td>HC_3_2011-02-14_2011-08-01</td>\n",
       "      <td>2011-02-14</td>\n",
       "      <td>2011-08-01</td>\n",
       "    </tr>\n",
       "    <tr>\n",
       "      <th>3</th>\n",
       "      <td>4</td>\n",
       "      <td>HC_4</td>\n",
       "      <td>HC_4_2012-05-28_2012-11-12</td>\n",
       "      <td>2012-05-28</td>\n",
       "      <td>2012-11-12</td>\n",
       "    </tr>\n",
       "    <tr>\n",
       "      <th>4</th>\n",
       "      <td>5</td>\n",
       "      <td>HC_5</td>\n",
       "      <td>HC_5_2013-01-17_2013-07-04</td>\n",
       "      <td>2013-01-17</td>\n",
       "      <td>2013-07-04</td>\n",
       "    </tr>\n",
       "  </tbody>\n",
       "</table>\n",
       "</div>"
      ],
      "text/plain": [
       "   class_id class_name                        code  start_date    end_date\n",
       "0         1       HC_1  HC_1_2009-02-03_2009-07-21  2009-02-03  2009-07-21\n",
       "1         2       HC_2  HC_2_2010-04-24_2010-10-09  2010-04-24  2010-10-09\n",
       "2         3       HC_3  HC_3_2011-02-14_2011-08-01  2011-02-14  2011-08-01\n",
       "3         4       HC_4  HC_4_2012-05-28_2012-11-12  2012-05-28  2012-11-12\n",
       "4         5       HC_5  HC_5_2013-01-17_2013-07-04  2013-01-17  2013-07-04"
      ]
     },
     "execution_count": 66,
     "metadata": {},
     "output_type": "execute_result"
    }
   ],
   "source": [
    "print(class_df.shape)\n",
    "class_df.rename(columns={'id': 'class_id'}, inplace=True)\n",
    "class_df.head()"
   ]
  },
  {
   "cell_type": "code",
   "execution_count": 68,
   "metadata": {},
   "outputs": [
    {
     "name": "stdout",
     "output_type": "stream",
     "text": [
      "(1065, 5)\n"
     ]
    },
    {
     "data": {
      "text/html": [
       "<div>\n",
       "<style scoped>\n",
       "    .dataframe tbody tr th:only-of-type {\n",
       "        vertical-align: middle;\n",
       "    }\n",
       "\n",
       "    .dataframe tbody tr th {\n",
       "        vertical-align: top;\n",
       "    }\n",
       "\n",
       "    .dataframe thead th {\n",
       "        text-align: right;\n",
       "    }\n",
       "</style>\n",
       "<table border=\"1\" class=\"dataframe\">\n",
       "  <thead>\n",
       "    <tr style=\"text-align: right;\">\n",
       "      <th></th>\n",
       "      <th>id</th>\n",
       "      <th>person_id</th>\n",
       "      <th>class_id</th>\n",
       "      <th>class_name</th>\n",
       "      <th>end_date</th>\n",
       "    </tr>\n",
       "  </thead>\n",
       "  <tbody>\n",
       "    <tr>\n",
       "      <th>0</th>\n",
       "      <td>1</td>\n",
       "      <td>431</td>\n",
       "      <td>1</td>\n",
       "      <td>HC_1</td>\n",
       "      <td>2009-07-21</td>\n",
       "    </tr>\n",
       "    <tr>\n",
       "      <th>1</th>\n",
       "      <td>2</td>\n",
       "      <td>275</td>\n",
       "      <td>1</td>\n",
       "      <td>HC_1</td>\n",
       "      <td>2009-07-21</td>\n",
       "    </tr>\n",
       "    <tr>\n",
       "      <th>2</th>\n",
       "      <td>3</td>\n",
       "      <td>370</td>\n",
       "      <td>1</td>\n",
       "      <td>HC_1</td>\n",
       "      <td>2009-07-21</td>\n",
       "    </tr>\n",
       "    <tr>\n",
       "      <th>3</th>\n",
       "      <td>4</td>\n",
       "      <td>159</td>\n",
       "      <td>1</td>\n",
       "      <td>HC_1</td>\n",
       "      <td>2009-07-21</td>\n",
       "    </tr>\n",
       "    <tr>\n",
       "      <th>4</th>\n",
       "      <td>5</td>\n",
       "      <td>283</td>\n",
       "      <td>1</td>\n",
       "      <td>HC_1</td>\n",
       "      <td>2009-07-21</td>\n",
       "    </tr>\n",
       "  </tbody>\n",
       "</table>\n",
       "</div>"
      ],
      "text/plain": [
       "   id  person_id  class_id class_name    end_date\n",
       "0   1        431         1       HC_1  2009-07-21\n",
       "1   2        275         1       HC_1  2009-07-21\n",
       "2   3        370         1       HC_1  2009-07-21\n",
       "3   4        159         1       HC_1  2009-07-21\n",
       "4   5        283         1       HC_1  2009-07-21"
      ]
     },
     "execution_count": 68,
     "metadata": {},
     "output_type": "execute_result"
    }
   ],
   "source": [
    "class_cols = ['class_id', 'class_name', 'end_date']\n",
    "out_class = pd.merge(outcomes_df, class_df[class_cols], how='inner', on='class_id')\n",
    "print(out_class.shape)\n",
    "out_class.head()"
   ]
  },
  {
   "cell_type": "code",
   "execution_count": 71,
   "metadata": {},
   "outputs": [
    {
     "data": {
      "text/html": [
       "<div>\n",
       "<style scoped>\n",
       "    .dataframe tbody tr th:only-of-type {\n",
       "        vertical-align: middle;\n",
       "    }\n",
       "\n",
       "    .dataframe tbody tr th {\n",
       "        vertical-align: top;\n",
       "    }\n",
       "\n",
       "    .dataframe thead th {\n",
       "        text-align: right;\n",
       "    }\n",
       "</style>\n",
       "<table border=\"1\" class=\"dataframe\">\n",
       "  <thead>\n",
       "    <tr style=\"text-align: right;\">\n",
       "      <th></th>\n",
       "      <th>id</th>\n",
       "      <th>person_id</th>\n",
       "      <th>class_id</th>\n",
       "      <th>date</th>\n",
       "      <th>year</th>\n",
       "      <th>class_name</th>\n",
       "      <th>start_date</th>\n",
       "      <th>end_date</th>\n",
       "    </tr>\n",
       "  </thead>\n",
       "  <tbody>\n",
       "    <tr>\n",
       "      <th>0</th>\n",
       "      <td>1</td>\n",
       "      <td>1</td>\n",
       "      <td>1</td>\n",
       "      <td>2009-02-01</td>\n",
       "      <td>2009</td>\n",
       "      <td>HC_1</td>\n",
       "      <td>2009-02-03</td>\n",
       "      <td>2009-07-21</td>\n",
       "    </tr>\n",
       "    <tr>\n",
       "      <th>1</th>\n",
       "      <td>2</td>\n",
       "      <td>2</td>\n",
       "      <td>1</td>\n",
       "      <td>2009-01-22</td>\n",
       "      <td>2009</td>\n",
       "      <td>HC_1</td>\n",
       "      <td>2009-02-03</td>\n",
       "      <td>2009-07-21</td>\n",
       "    </tr>\n",
       "    <tr>\n",
       "      <th>2</th>\n",
       "      <td>3</td>\n",
       "      <td>3</td>\n",
       "      <td>1</td>\n",
       "      <td>2009-01-25</td>\n",
       "      <td>2009</td>\n",
       "      <td>HC_1</td>\n",
       "      <td>2009-02-03</td>\n",
       "      <td>2009-07-21</td>\n",
       "    </tr>\n",
       "    <tr>\n",
       "      <th>3</th>\n",
       "      <td>5</td>\n",
       "      <td>5</td>\n",
       "      <td>1</td>\n",
       "      <td>2009-01-08</td>\n",
       "      <td>2009</td>\n",
       "      <td>HC_1</td>\n",
       "      <td>2009-02-03</td>\n",
       "      <td>2009-07-21</td>\n",
       "    </tr>\n",
       "    <tr>\n",
       "      <th>4</th>\n",
       "      <td>6</td>\n",
       "      <td>6</td>\n",
       "      <td>1</td>\n",
       "      <td>2009-01-01</td>\n",
       "      <td>2009</td>\n",
       "      <td>HC_1</td>\n",
       "      <td>2009-02-03</td>\n",
       "      <td>2009-07-21</td>\n",
       "    </tr>\n",
       "  </tbody>\n",
       "</table>\n",
       "</div>"
      ],
      "text/plain": [
       "   id  person_id  class_id       date  year class_name  start_date    end_date\n",
       "0   1          1         1 2009-02-01  2009       HC_1  2009-02-03  2009-07-21\n",
       "1   2          2         1 2009-01-22  2009       HC_1  2009-02-03  2009-07-21\n",
       "2   3          3         1 2009-01-25  2009       HC_1  2009-02-03  2009-07-21\n",
       "3   5          5         1 2009-01-08  2009       HC_1  2009-02-03  2009-07-21\n",
       "4   6          6         1 2009-01-01  2009       HC_1  2009-02-03  2009-07-21"
      ]
     },
     "execution_count": 71,
     "metadata": {},
     "output_type": "execute_result"
    }
   ],
   "source": [
    "class_applications = pd.merge(\n",
    "    application_df, class_df.drop('code', axis=1), how='inner', on='class_id')\n",
    "class_applications.head()"
   ]
  },
  {
   "cell_type": "code",
   "execution_count": 73,
   "metadata": {},
   "outputs": [],
   "source": [
    "class_applications['quaters'] = class_applications['date'].dt.quarter"
   ]
  },
  {
   "cell_type": "code",
   "execution_count": 74,
   "metadata": {},
   "outputs": [
    {
     "data": {
      "text/html": [
       "<div>\n",
       "<style scoped>\n",
       "    .dataframe tbody tr th:only-of-type {\n",
       "        vertical-align: middle;\n",
       "    }\n",
       "\n",
       "    .dataframe tbody tr th {\n",
       "        vertical-align: top;\n",
       "    }\n",
       "\n",
       "    .dataframe thead th {\n",
       "        text-align: right;\n",
       "    }\n",
       "</style>\n",
       "<table border=\"1\" class=\"dataframe\">\n",
       "  <thead>\n",
       "    <tr style=\"text-align: right;\">\n",
       "      <th></th>\n",
       "      <th>id</th>\n",
       "      <th>person_id</th>\n",
       "      <th>class_id</th>\n",
       "      <th>date</th>\n",
       "      <th>year</th>\n",
       "      <th>class_name</th>\n",
       "      <th>start_date</th>\n",
       "      <th>end_date</th>\n",
       "      <th>quaters</th>\n",
       "    </tr>\n",
       "  </thead>\n",
       "  <tbody>\n",
       "    <tr>\n",
       "      <th>0</th>\n",
       "      <td>1</td>\n",
       "      <td>1</td>\n",
       "      <td>1</td>\n",
       "      <td>2009-02-01</td>\n",
       "      <td>2009</td>\n",
       "      <td>HC_1</td>\n",
       "      <td>2009-02-03</td>\n",
       "      <td>2009-07-21</td>\n",
       "      <td>1</td>\n",
       "    </tr>\n",
       "    <tr>\n",
       "      <th>1</th>\n",
       "      <td>2</td>\n",
       "      <td>2</td>\n",
       "      <td>1</td>\n",
       "      <td>2009-01-22</td>\n",
       "      <td>2009</td>\n",
       "      <td>HC_1</td>\n",
       "      <td>2009-02-03</td>\n",
       "      <td>2009-07-21</td>\n",
       "      <td>1</td>\n",
       "    </tr>\n",
       "    <tr>\n",
       "      <th>2</th>\n",
       "      <td>3</td>\n",
       "      <td>3</td>\n",
       "      <td>1</td>\n",
       "      <td>2009-01-25</td>\n",
       "      <td>2009</td>\n",
       "      <td>HC_1</td>\n",
       "      <td>2009-02-03</td>\n",
       "      <td>2009-07-21</td>\n",
       "      <td>1</td>\n",
       "    </tr>\n",
       "    <tr>\n",
       "      <th>3</th>\n",
       "      <td>5</td>\n",
       "      <td>5</td>\n",
       "      <td>1</td>\n",
       "      <td>2009-01-08</td>\n",
       "      <td>2009</td>\n",
       "      <td>HC_1</td>\n",
       "      <td>2009-02-03</td>\n",
       "      <td>2009-07-21</td>\n",
       "      <td>1</td>\n",
       "    </tr>\n",
       "    <tr>\n",
       "      <th>4</th>\n",
       "      <td>6</td>\n",
       "      <td>6</td>\n",
       "      <td>1</td>\n",
       "      <td>2009-01-01</td>\n",
       "      <td>2009</td>\n",
       "      <td>HC_1</td>\n",
       "      <td>2009-02-03</td>\n",
       "      <td>2009-07-21</td>\n",
       "      <td>1</td>\n",
       "    </tr>\n",
       "  </tbody>\n",
       "</table>\n",
       "</div>"
      ],
      "text/plain": [
       "   id  person_id  class_id       date  year class_name  start_date  \\\n",
       "0   1          1         1 2009-02-01  2009       HC_1  2009-02-03   \n",
       "1   2          2         1 2009-01-22  2009       HC_1  2009-02-03   \n",
       "2   3          3         1 2009-01-25  2009       HC_1  2009-02-03   \n",
       "3   5          5         1 2009-01-08  2009       HC_1  2009-02-03   \n",
       "4   6          6         1 2009-01-01  2009       HC_1  2009-02-03   \n",
       "\n",
       "     end_date  quaters  \n",
       "0  2009-07-21        1  \n",
       "1  2009-07-21        1  \n",
       "2  2009-07-21        1  \n",
       "3  2009-07-21        1  \n",
       "4  2009-07-21        1  "
      ]
     },
     "execution_count": 74,
     "metadata": {},
     "output_type": "execute_result"
    }
   ],
   "source": [
    "class_applications.head()"
   ]
  },
  {
   "cell_type": "code",
   "execution_count": null,
   "metadata": {},
   "outputs": [],
   "source": []
  }
 ],
 "metadata": {
  "kernelspec": {
   "display_name": "Python 3",
   "language": "python",
   "name": "python3"
  },
  "language_info": {
   "codemirror_mode": {
    "name": "ipython",
    "version": 3
   },
   "file_extension": ".py",
   "mimetype": "text/x-python",
   "name": "python",
   "nbconvert_exporter": "python",
   "pygments_lexer": "ipython3",
   "version": "3.7.6"
  }
 },
 "nbformat": 4,
 "nbformat_minor": 4
}

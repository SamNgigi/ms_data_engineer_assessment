{
 "cells": [
  {
   "cell_type": "code",
   "execution_count": 1,
   "metadata": {},
   "outputs": [],
   "source": [
    "import pandas as pd\n",
    "import numpy as np\n",
    "import matplotlib.pyplot as plt\n",
    "import seaborn as sns\n",
    "\n",
    "import dshai.utils as ds\n",
    "\n",
    "import gspread\n",
    "from oauth2client.service_account import ServiceAccountCredentials as SAC\n",
    "\n"
   ]
  },
  {
   "cell_type": "code",
   "execution_count": 2,
   "metadata": {},
   "outputs": [
    {
     "name": "stdout",
     "output_type": "stream",
     "text": [
      "Hello World!\n"
     ]
    }
   ],
   "source": [
    "# ds.hello()\n",
    "ds.hello()"
   ]
  },
  {
   "cell_type": "code",
   "execution_count": 3,
   "metadata": {},
   "outputs": [
    {
     "name": "stdout",
     "output_type": "stream",
     "text": [
      "/home/jedi/Desktop/dev_ds/ms_data_engineer_assessment/solution\r\n"
     ]
    }
   ],
   "source": [
    "!pwd"
   ]
  },
  {
   "cell_type": "code",
   "execution_count": 4,
   "metadata": {},
   "outputs": [
    {
     "data": {
      "text/plain": [
       "<gspread.client.Client at 0x7f29a3a46e50>"
      ]
     },
     "execution_count": 4,
     "metadata": {},
     "output_type": "execute_result"
    }
   ],
   "source": [
    "SCOPES = ['https://www.googleapis.com/auth/spreadsheets']\n",
    "creds = SAC.from_json_keyfile_name(\n",
    "            'gspread-270619-05d12e0e0262.json', SCOPES)\n",
    "\n",
    "gsp = gspread.authorize(creds)\n",
    "\n",
    "gsp"
   ]
  },
  {
   "cell_type": "code",
   "execution_count": 5,
   "metadata": {},
   "outputs": [],
   "source": [
    "base_url = 'https://docs.google.com/spreadsheets/d'\n",
    "sheet_id = '1ZtGa3ykeYOK_WvE7JHoGX_zvFE4drfaHVTqtKWZ69L8'\n",
    "\n",
    "\n"
   ]
  },
  {
   "cell_type": "code",
   "execution_count": 6,
   "metadata": {},
   "outputs": [
    {
     "data": {
      "text/plain": [
       "<Spreadsheet 'jedi_hogwarts_admissions' id:1ZtGa3ykeYOK_WvE7JHoGX_zvFE4drfaHVTqtKWZ69L8>"
      ]
     },
     "execution_count": 6,
     "metadata": {},
     "output_type": "execute_result"
    }
   ],
   "source": [
    "gsp.open_by_url(f'{base_url}/{sheet_id}')"
   ]
  },
  {
   "cell_type": "markdown",
   "metadata": {},
   "source": [
    "## Loading the data from google sheets\n",
    "\n",
    "This fetches the raw data from google spread sheets. The API call takes some time so we run it once. We can run it again if data is updated"
   ]
  },
  {
   "cell_type": "code",
   "execution_count": 7,
   "metadata": {},
   "outputs": [],
   "source": [
    "from flask_apps.services.resources.gspread_service import GspreadService\n",
    "from flask_apps.services.resources.abstract_resource import AbstractSpreadSheetResource\n",
    "\n",
    "from flask_apps.services.resources.admissions.ApplicationsRes import AllApplicationsResource\n",
    "from flask_apps.services.resources.admissions.ClassRes import ClassResource\n",
    "from flask_apps.services.resources.admissions.StudentsClassRes import StudentsClassResource\n",
    "\n",
    "from flask_apps.services.resources.enrollments.ModulesRes import ModulesResource \n",
    "from flask_apps.services.resources.enrollments.BaseClassByModuleRes import BaseClassByModuleRes\n",
    "\n",
    "from flask_apps.services.resources.outcomes.OutcomesRes import OutcomesResource\n",
    "\n",
    "\n",
    "# all_applications = AllApplicationsResource()\n",
    "# all_applications.fetch()\n",
    "# all_applications.process()\n",
    "\n"
   ]
  },
  {
   "cell_type": "code",
   "execution_count": 8,
   "metadata": {},
   "outputs": [],
   "source": [
    "# class_ = ClassResource()\n",
    "# class_.fetch()\n",
    "# class_.process()"
   ]
  },
  {
   "cell_type": "code",
   "execution_count": 9,
   "metadata": {},
   "outputs": [],
   "source": [
    "# student_class = StudentsClassResource()\n",
    "# student_class.fetch()\n",
    "# student_class.process()"
   ]
  },
  {
   "cell_type": "code",
   "execution_count": 10,
   "metadata": {},
   "outputs": [],
   "source": [
    "# modules = ModulesResource()\n",
    "# modules.fetch()\n",
    "# modules.process()"
   ]
  },
  {
   "cell_type": "code",
   "execution_count": 11,
   "metadata": {},
   "outputs": [],
   "source": [
    "# class_byMod = BaseClassByModuleRes()\n",
    "# class_byMod.fetch()\n",
    "# class_byMod.process()"
   ]
  },
  {
   "cell_type": "code",
   "execution_count": 12,
   "metadata": {},
   "outputs": [],
   "source": [
    "# outcomes = OutcomesResource()\n",
    "# outcomes.fetch()\n",
    "# outcomes.process()\n"
   ]
  },
  {
   "cell_type": "code",
   "execution_count": 39,
   "metadata": {},
   "outputs": [],
   "source": [
    "# type(outcomes.parsed_data)\n",
    "import pickle\n",
    "\n",
    "with open('pickles/all_applications.p', \"rb\") as f:\n",
    "    all_applications = pickle.load(f)\n",
    "    \n",
    "with open('pickles/classes.p', \"rb\") as f:\n",
    "    classes = pickle.load(f)\n",
    "\n",
    "with open('pickles/studentbyclass.p', \"rb\") as f:\n",
    "    studentbyclass = pickle.load(f)\n",
    "    \n",
    "with open('pickles/modules.p', \"rb\") as f:\n",
    "    modules = pickle.load(f)\n",
    "    \n",
    "with open('pickles/classbyMod.p', \"rb\") as f:\n",
    "    classbyMod = pickle.load(f)\n",
    "    \n",
    "with open('pickles/outcomes.p', \"rb\") as f:\n",
    "    outcomes = pickle.load(f)\n",
    "    "
   ]
  },
  {
   "cell_type": "code",
   "execution_count": 14,
   "metadata": {},
   "outputs": [
    {
     "data": {
      "text/html": [
       "<div>\n",
       "<style scoped>\n",
       "    .dataframe tbody tr th:only-of-type {\n",
       "        vertical-align: middle;\n",
       "    }\n",
       "\n",
       "    .dataframe tbody tr th {\n",
       "        vertical-align: top;\n",
       "    }\n",
       "\n",
       "    .dataframe thead th {\n",
       "        text-align: right;\n",
       "    }\n",
       "</style>\n",
       "<table border=\"1\" class=\"dataframe\">\n",
       "  <thead>\n",
       "    <tr style=\"text-align: right;\">\n",
       "      <th></th>\n",
       "      <th>name</th>\n",
       "      <th>email</th>\n",
       "      <th>phone</th>\n",
       "    </tr>\n",
       "  </thead>\n",
       "  <tbody>\n",
       "    <tr>\n",
       "      <th>1</th>\n",
       "      <td>Conor Goddard</td>\n",
       "      <td>conorgoddard@gmail.com</td>\n",
       "      <td>0151 496 0067</td>\n",
       "    </tr>\n",
       "    <tr>\n",
       "      <th>2</th>\n",
       "      <td>Joan Jenkins</td>\n",
       "      <td>joanjenkins@yahoo.com</td>\n",
       "      <td>0115 496 0699</td>\n",
       "    </tr>\n",
       "    <tr>\n",
       "      <th>3</th>\n",
       "      <td>Tracy Young</td>\n",
       "      <td>tracyyoung@hotmail.com</td>\n",
       "      <td>(0121)4960644</td>\n",
       "    </tr>\n",
       "    <tr>\n",
       "      <th>4</th>\n",
       "      <td>Dominic Ali</td>\n",
       "      <td>dominicali@yahoo.com</td>\n",
       "      <td>(0909) 879 0555</td>\n",
       "    </tr>\n",
       "    <tr>\n",
       "      <th>5</th>\n",
       "      <td>Clifford Webb</td>\n",
       "      <td>cliffordwebb@hotmail.com</td>\n",
       "      <td>0909 8790740</td>\n",
       "    </tr>\n",
       "    <tr>\n",
       "      <th>...</th>\n",
       "      <td>...</td>\n",
       "      <td>...</td>\n",
       "      <td>...</td>\n",
       "    </tr>\n",
       "    <tr>\n",
       "      <th>396</th>\n",
       "      <td>Nicole Brown</td>\n",
       "      <td>nicolebrown@hotmail.com</td>\n",
       "      <td>+44(0)306 9990975</td>\n",
       "    </tr>\n",
       "    <tr>\n",
       "      <th>397</th>\n",
       "      <td>Lorraine O'Connor</td>\n",
       "      <td>lorraineo'connor@hotmail.com</td>\n",
       "      <td>+44131 4960600</td>\n",
       "    </tr>\n",
       "    <tr>\n",
       "      <th>398</th>\n",
       "      <td>Frederick Hobbs</td>\n",
       "      <td>frederickhobbs@hotmail.com</td>\n",
       "      <td>+44909 879 0484</td>\n",
       "    </tr>\n",
       "    <tr>\n",
       "      <th>399</th>\n",
       "      <td>Amy Wells</td>\n",
       "      <td>amywells@hotmail.com</td>\n",
       "      <td>+44(0)1184960339</td>\n",
       "    </tr>\n",
       "    <tr>\n",
       "      <th>400</th>\n",
       "      <td>Tom Davies</td>\n",
       "      <td>tomdavies@gmail.com</td>\n",
       "      <td>(0141) 496 0698</td>\n",
       "    </tr>\n",
       "  </tbody>\n",
       "</table>\n",
       "<p>400 rows × 3 columns</p>\n",
       "</div>"
      ],
      "text/plain": [
       "0                 name                         email              phone\n",
       "1        Conor Goddard        conorgoddard@gmail.com      0151 496 0067\n",
       "2         Joan Jenkins         joanjenkins@yahoo.com      0115 496 0699\n",
       "3          Tracy Young        tracyyoung@hotmail.com      (0121)4960644\n",
       "4          Dominic Ali          dominicali@yahoo.com    (0909) 879 0555\n",
       "5        Clifford Webb      cliffordwebb@hotmail.com       0909 8790740\n",
       "..                 ...                           ...                ...\n",
       "396       Nicole Brown       nicolebrown@hotmail.com  +44(0)306 9990975\n",
       "397  Lorraine O'Connor  lorraineo'connor@hotmail.com     +44131 4960600\n",
       "398    Frederick Hobbs    frederickhobbs@hotmail.com    +44909 879 0484\n",
       "399          Amy Wells          amywells@hotmail.com   +44(0)1184960339\n",
       "400         Tom Davies           tomdavies@gmail.com    (0141) 496 0698\n",
       "\n",
       "[400 rows x 3 columns]"
      ]
     },
     "execution_count": 14,
     "metadata": {},
     "output_type": "execute_result"
    }
   ],
   "source": [
    "parsed_class = classes\n",
    "parsed_apps = all_applications\n",
    "student_res = studentbyclass\n",
    "\n",
    "# parsed_class\n",
    "# parsed_apps\n",
    "student_res['HC_1_students']"
   ]
  },
  {
   "cell_type": "code",
   "execution_count": 62,
   "metadata": {},
   "outputs": [
    {
     "data": {
      "text/plain": [
       "dict_keys(['all_applications'])"
      ]
     },
     "execution_count": 62,
     "metadata": {},
     "output_type": "execute_result"
    }
   ],
   "source": [
    "parsed_apps.keys()"
   ]
  },
  {
   "cell_type": "code",
   "execution_count": 72,
   "metadata": {},
   "outputs": [
    {
     "data": {
      "text/html": [
       "<div>\n",
       "<style scoped>\n",
       "    .dataframe tbody tr th:only-of-type {\n",
       "        vertical-align: middle;\n",
       "    }\n",
       "\n",
       "    .dataframe tbody tr th {\n",
       "        vertical-align: top;\n",
       "    }\n",
       "\n",
       "    .dataframe thead th {\n",
       "        text-align: right;\n",
       "    }\n",
       "</style>\n",
       "<table border=\"1\" class=\"dataframe\">\n",
       "  <thead>\n",
       "    <tr style=\"text-align: right;\">\n",
       "      <th></th>\n",
       "      <th>name</th>\n",
       "      <th>email</th>\n",
       "      <th>gender</th>\n",
       "      <th>phone</th>\n",
       "      <th>class</th>\n",
       "      <th>date</th>\n",
       "    </tr>\n",
       "  </thead>\n",
       "  <tbody>\n",
       "    <tr>\n",
       "      <th>1</th>\n",
       "      <td>Jay Austin</td>\n",
       "      <td>jayaustin@yahoo.com</td>\n",
       "      <td>M</td>\n",
       "      <td>(0117)4960344</td>\n",
       "      <td>HC_1</td>\n",
       "      <td>2009-04-19</td>\n",
       "    </tr>\n",
       "    <tr>\n",
       "      <th>2</th>\n",
       "      <td>Geoffrey Wilkinson</td>\n",
       "      <td>geoffreywilkinson@hotmail.com</td>\n",
       "      <td>F</td>\n",
       "      <td>1632960293</td>\n",
       "      <td>HC_1</td>\n",
       "      <td>2009-04-27</td>\n",
       "    </tr>\n",
       "    <tr>\n",
       "      <th>3</th>\n",
       "      <td>Jasmine Nash</td>\n",
       "      <td>jasminenash@hotmail.com</td>\n",
       "      <td>M</td>\n",
       "      <td>(0141) 4960724</td>\n",
       "      <td>HC_2</td>\n",
       "      <td>2009-12-06</td>\n",
       "    </tr>\n",
       "    <tr>\n",
       "      <th>4</th>\n",
       "      <td>Jacob Parkin</td>\n",
       "      <td>jacobparkin@hotmail.com</td>\n",
       "      <td>F</td>\n",
       "      <td>0117 4960580</td>\n",
       "      <td>HC_1</td>\n",
       "      <td>2009-04-13</td>\n",
       "    </tr>\n",
       "    <tr>\n",
       "      <th>5</th>\n",
       "      <td>Robin Barton</td>\n",
       "      <td>robinbarton@gmail.com</td>\n",
       "      <td>F</td>\n",
       "      <td>(0113) 4960945</td>\n",
       "      <td>HC_1</td>\n",
       "      <td>2009-04-09</td>\n",
       "    </tr>\n",
       "    <tr>\n",
       "      <th>...</th>\n",
       "      <td>...</td>\n",
       "      <td>...</td>\n",
       "      <td>...</td>\n",
       "      <td>...</td>\n",
       "      <td>...</td>\n",
       "      <td>...</td>\n",
       "    </tr>\n",
       "    <tr>\n",
       "      <th>20306</th>\n",
       "      <td>Melissa Lambert</td>\n",
       "      <td>melissalambert@yahoo.com</td>\n",
       "      <td>F</td>\n",
       "      <td>+44(0)118 496 0614</td>\n",
       "      <td>HC_12</td>\n",
       "      <td>2020-06-18</td>\n",
       "    </tr>\n",
       "    <tr>\n",
       "      <th>20311</th>\n",
       "      <td>Molly Bailey</td>\n",
       "      <td>mollybailey@hotmail.com</td>\n",
       "      <td>M</td>\n",
       "      <td>(0808) 157 0392</td>\n",
       "      <td>HC_12</td>\n",
       "      <td>2020-06-19</td>\n",
       "    </tr>\n",
       "    <tr>\n",
       "      <th>20318</th>\n",
       "      <td>Molly McDonald</td>\n",
       "      <td>mollymcdonald@gmail.com</td>\n",
       "      <td>F</td>\n",
       "      <td>+441614960146</td>\n",
       "      <td>HC_12</td>\n",
       "      <td>2020-06-28</td>\n",
       "    </tr>\n",
       "    <tr>\n",
       "      <th>20319</th>\n",
       "      <td>Clare Walker</td>\n",
       "      <td>clarewalker@hotmail.com</td>\n",
       "      <td>M</td>\n",
       "      <td>+44909 8790697</td>\n",
       "      <td>HC_12</td>\n",
       "      <td>2020-07-06</td>\n",
       "    </tr>\n",
       "    <tr>\n",
       "      <th>20323</th>\n",
       "      <td>Roy Francis</td>\n",
       "      <td>royfrancis@hotmail.com</td>\n",
       "      <td>M</td>\n",
       "      <td>+441314960191</td>\n",
       "      <td>HC_12</td>\n",
       "      <td>2020-06-22</td>\n",
       "    </tr>\n",
       "  </tbody>\n",
       "</table>\n",
       "<p>6782 rows × 6 columns</p>\n",
       "</div>"
      ],
      "text/plain": [
       "0                    name                          email gender  \\\n",
       "1              Jay Austin            jayaustin@yahoo.com      M   \n",
       "2      Geoffrey Wilkinson  geoffreywilkinson@hotmail.com      F   \n",
       "3            Jasmine Nash        jasminenash@hotmail.com      M   \n",
       "4            Jacob Parkin        jacobparkin@hotmail.com      F   \n",
       "5            Robin Barton          robinbarton@gmail.com      F   \n",
       "...                   ...                            ...    ...   \n",
       "20306     Melissa Lambert       melissalambert@yahoo.com      F   \n",
       "20311        Molly Bailey        mollybailey@hotmail.com      M   \n",
       "20318      Molly McDonald        mollymcdonald@gmail.com      F   \n",
       "20319        Clare Walker        clarewalker@hotmail.com      M   \n",
       "20323         Roy Francis         royfrancis@hotmail.com      M   \n",
       "\n",
       "0                   phone  class        date  \n",
       "1           (0117)4960344   HC_1  2009-04-19  \n",
       "2              1632960293   HC_1  2009-04-27  \n",
       "3          (0141) 4960724   HC_2  2009-12-06  \n",
       "4            0117 4960580   HC_1  2009-04-13  \n",
       "5          (0113) 4960945   HC_1  2009-04-09  \n",
       "...                   ...    ...         ...  \n",
       "20306  +44(0)118 496 0614  HC_12  2020-06-18  \n",
       "20311     (0808) 157 0392  HC_12  2020-06-19  \n",
       "20318       +441614960146  HC_12  2020-06-28  \n",
       "20319      +44909 8790697  HC_12  2020-07-06  \n",
       "20323       +441314960191  HC_12  2020-06-22  \n",
       "\n",
       "[6782 rows x 6 columns]"
      ]
     },
     "execution_count": 72,
     "metadata": {},
     "output_type": "execute_result"
    }
   ],
   "source": [
    "all_apps = parsed_apps['all_applications'].copy()\n",
    "all_apps"
   ]
  },
  {
   "cell_type": "code",
   "execution_count": 74,
   "metadata": {},
   "outputs": [],
   "source": [
    "all_apps[['first_name', 'last_name']] = all_apps['name'].str.split(pat=' ', expand=True)[[0, 1]]"
   ]
  },
  {
   "cell_type": "code",
   "execution_count": 76,
   "metadata": {},
   "outputs": [
    {
     "data": {
      "text/plain": [
       "(6782, 8)"
      ]
     },
     "execution_count": 76,
     "metadata": {},
     "output_type": "execute_result"
    }
   ],
   "source": [
    "all_apps.shape"
   ]
  },
  {
   "cell_type": "code",
   "execution_count": 69,
   "metadata": {},
   "outputs": [
    {
     "data": {
      "text/plain": [
       "0\n",
       "name          object\n",
       "email         object\n",
       "gender        object\n",
       "phone         object\n",
       "class         object\n",
       "date          object\n",
       "first_name    object\n",
       "last_name     object\n",
       "dtype: object"
      ]
     },
     "execution_count": 69,
     "metadata": {},
     "output_type": "execute_result"
    }
   ],
   "source": [
    "all_apps.dtypes"
   ]
  },
  {
   "cell_type": "code",
   "execution_count": 15,
   "metadata": {},
   "outputs": [
    {
     "name": "stdout",
     "output_type": "stream",
     "text": [
      "classes             :        12, 4\n",
      "all_applications    :      6782, 6\n",
      "HC_1_students       :       400, 3\n",
      "HC_2_students       :       400, 3\n",
      "HC_3_students       :       400, 3\n",
      "HC_4_students       :       400, 3\n",
      "HC_5_students       :       400, 3\n",
      "HC_6_students       :       400, 3\n",
      "HC_7_students       :       400, 3\n",
      "HC_8_students       :       400, 3\n",
      "HC_9_students       :       400, 3\n",
      "HC_10_students      :       400, 3\n",
      "HC_11_students      :       400, 3\n",
      "HC_12_students      :       400, 3\n"
     ]
    }
   ],
   "source": [
    "clean_resources = [parsed_class, parsed_apps, student_res]\n",
    "# for k, v in raw_admissions.items():\n",
    "#         print(f\"{k:<20}:{v.shape[0]:>10}, {v.shape[1]:}\")\n",
    "\n",
    "for i in clean_resources:\n",
    "    for k, v in i.items():\n",
    "        print(f\"{k:<20}:{v.shape[0]:>10}, {v.shape[1]:}\")"
   ]
  },
  {
   "cell_type": "code",
   "execution_count": 16,
   "metadata": {},
   "outputs": [
    {
     "name": "stdout",
     "output_type": "stream",
     "text": [
      "ClassResource\n",
      "AllApplicationsResource\n",
      "StudentsClassResource\n"
     ]
    }
   ],
   "source": [
    "resources = [\"ClassResource\", \"AllApplicationsResource\", \"StudentsClassResource\"]\n",
    "\n",
    "for i in range(len(resources)):\n",
    "    print(resources[i])"
   ]
  },
  {
   "cell_type": "code",
   "execution_count": 17,
   "metadata": {},
   "outputs": [],
   "source": [
    "from flask_apps.models.AbstractModel import AbstractModel\n",
    "from flask_apps.models.Classes import Classes\n",
    "from flask_apps.models.Classes import ClassesSql\n",
    "\n",
    "from flask_apps.services.db.db_handler import PostgresDBService\n",
    "import psycopg2 "
   ]
  },
  {
   "cell_type": "code",
   "execution_count": 18,
   "metadata": {},
   "outputs": [
    {
     "data": {
      "text/plain": [
       "{'id': None,\n",
       " 'name': 'HC_1',\n",
       " 'code': 'HC_1_2009-02-03_2009-07-21',\n",
       " 'start_date': '2009-02-03',\n",
       " 'end_date': '2009-07-21'}"
      ]
     },
     "execution_count": 18,
     "metadata": {},
     "output_type": "execute_result"
    }
   ],
   "source": [
    "# classes_[['start_date', 'end_date']] = classes_['code'].str.rsplit(pat='_', n=2, expand=True)[[1, 2]]\n",
    "\n",
    "\n",
    "cls_sql = ClassesSql()\n",
    "\n",
    "cls_indx0 = classes['classes'].iloc[0]\n",
    "cls_indx1 = classes['classes'].iloc[1]\n",
    "\n",
    "clss0 = Classes(cls_indx0['name'], cls_indx0['code'],cls_indx0['start_date'],cls_indx0['end_date'])\n",
    "clss1 = Classes(cls_indx1['name'], cls_indx1['code'],cls_indx1['start_date'],cls_indx1['end_date'])\n",
    "\n",
    "clss0.__dict__"
   ]
  },
  {
   "cell_type": "code",
   "execution_count": 19,
   "metadata": {},
   "outputs": [
    {
     "data": {
      "text/plain": [
       "{'id': None,\n",
       " 'name': 'HC_2',\n",
       " 'code': 'HC_2_2010-04-24_2010-10-09',\n",
       " 'start_date': '2010-04-24',\n",
       " 'end_date': '2010-10-09'}"
      ]
     },
     "execution_count": 19,
     "metadata": {},
     "output_type": "execute_result"
    }
   ],
   "source": [
    "clss1.__dict__"
   ]
  },
  {
   "cell_type": "code",
   "execution_count": 20,
   "metadata": {},
   "outputs": [
    {
     "name": "stdout",
     "output_type": "stream",
     "text": [
      "{'message': 'Cohort aleady exists'}\n"
     ]
    }
   ],
   "source": [
    "cls_sql.save(clss0)"
   ]
  },
  {
   "cell_type": "code",
   "execution_count": 21,
   "metadata": {},
   "outputs": [
    {
     "name": "stdout",
     "output_type": "stream",
     "text": [
      "{'message': 'Cohort aleady exists'}\n"
     ]
    }
   ],
   "source": [
    "cls_sql.save(clss1)"
   ]
  },
  {
   "cell_type": "code",
   "execution_count": 37,
   "metadata": {},
   "outputs": [],
   "source": [
    "# cls_sql.get_by_name(cls_indx0['name'])\n",
    "# cls_sql.save(clss0)\n",
    "# cls_sql.get_by_id(1)\n",
    "# clss0.id\n",
    "classes_ = cls_sql.get_all()"
   ]
  },
  {
   "cell_type": "code",
   "execution_count": 38,
   "metadata": {},
   "outputs": [
    {
     "name": "stdout",
     "output_type": "stream",
     "text": [
      "[1, 'HC_1', 'HC_1_2009-02-03_2009-07-21', datetime.date(2009, 2, 3), datetime.date(2009, 7, 21)]\n",
      "[2, 'HC_2', 'HC_2_2010-04-24_2010-10-09', datetime.date(2010, 4, 24), datetime.date(2010, 10, 9)]\n"
     ]
    }
   ],
   "source": [
    "# parse_classes(sheet_name, raw_df)->pd.DataFrame:\n",
    "# help(classes)\n",
    "for cls in classes_:\n",
    "    print(cls)"
   ]
  },
  {
   "cell_type": "code",
   "execution_count": 43,
   "metadata": {},
   "outputs": [
    {
     "data": {
      "text/html": [
       "<div>\n",
       "<style scoped>\n",
       "    .dataframe tbody tr th:only-of-type {\n",
       "        vertical-align: middle;\n",
       "    }\n",
       "\n",
       "    .dataframe tbody tr th {\n",
       "        vertical-align: top;\n",
       "    }\n",
       "\n",
       "    .dataframe thead th {\n",
       "        text-align: right;\n",
       "    }\n",
       "</style>\n",
       "<table border=\"1\" class=\"dataframe\">\n",
       "  <thead>\n",
       "    <tr style=\"text-align: right;\">\n",
       "      <th></th>\n",
       "      <th>name</th>\n",
       "      <th>code</th>\n",
       "      <th>start_date</th>\n",
       "      <th>end_date</th>\n",
       "    </tr>\n",
       "  </thead>\n",
       "  <tbody>\n",
       "    <tr>\n",
       "      <th>1</th>\n",
       "      <td>HC_1</td>\n",
       "      <td>HC_1_2009-02-03_2009-07-21</td>\n",
       "      <td>2009-02-03</td>\n",
       "      <td>2009-07-21</td>\n",
       "    </tr>\n",
       "    <tr>\n",
       "      <th>2</th>\n",
       "      <td>HC_2</td>\n",
       "      <td>HC_2_2010-04-24_2010-10-09</td>\n",
       "      <td>2010-04-24</td>\n",
       "      <td>2010-10-09</td>\n",
       "    </tr>\n",
       "  </tbody>\n",
       "</table>\n",
       "</div>"
      ],
      "text/plain": [
       "0  name                        code  start_date    end_date\n",
       "1  HC_1  HC_1_2009-02-03_2009-07-21  2009-02-03  2009-07-21\n",
       "2  HC_2  HC_2_2010-04-24_2010-10-09  2010-04-24  2010-10-09"
      ]
     },
     "execution_count": 43,
     "metadata": {},
     "output_type": "execute_result"
    }
   ],
   "source": [
    "test_cls = classes['classes'].iloc[:2]\n",
    "\n",
    "test_cls.to_records()"
   ]
  },
  {
   "cell_type": "code",
   "execution_count": 81,
   "metadata": {},
   "outputs": [
    {
     "data": {
      "text/plain": [
       "dict_keys(['name', 'code', 'start_date', 'end_date'])"
      ]
     },
     "execution_count": 81,
     "metadata": {},
     "output_type": "execute_result"
    }
   ],
   "source": [
    "test_dict = test_cls.to_dict(orient='list')\n",
    "test_dict.keys()"
   ]
  },
  {
   "cell_type": "code",
   "execution_count": 49,
   "metadata": {},
   "outputs": [
    {
     "name": "stdout",
     "output_type": "stream",
     "text": [
      "name\n",
      "code\n",
      "start_date\n",
      "end_date\n"
     ]
    }
   ],
   "source": [
    "for i in test_dict.keys():\n",
    "    print(i)"
   ]
  },
  {
   "cell_type": "code",
   "execution_count": 48,
   "metadata": {},
   "outputs": [
    {
     "data": {
      "text/plain": [
       "dict_keys(['classes'])"
      ]
     },
     "execution_count": 48,
     "metadata": {},
     "output_type": "execute_result"
    }
   ],
   "source": [
    "classes.keys()"
   ]
  },
  {
   "cell_type": "code",
   "execution_count": 52,
   "metadata": {},
   "outputs": [
    {
     "data": {
      "text/plain": [
       "dict_keys(['name', 'code', 'start_date', 'end_date'])"
      ]
     },
     "execution_count": 52,
     "metadata": {},
     "output_type": "execute_result"
    }
   ],
   "source": [
    "anon_test = classes['classes'].to_dict()\n",
    "anon_test.keys()"
   ]
  },
  {
   "cell_type": "code",
   "execution_count": 60,
   "metadata": {},
   "outputs": [
    {
     "name": "stdout",
     "output_type": "stream",
     "text": [
      "HC_1\n",
      "HC_2\n"
     ]
    }
   ],
   "source": [
    "for i in test_dict:\n",
    "    print(i['name'])\n",
    "    "
   ]
  },
  {
   "cell_type": "code",
   "execution_count": 84,
   "metadata": {},
   "outputs": [
    {
     "data": {
      "text/plain": [
       "dict_keys(['HC_1_students', 'HC_2_students', 'HC_3_students', 'HC_4_students', 'HC_5_students', 'HC_6_students', 'HC_7_students', 'HC_8_students', 'HC_9_students', 'HC_10_students', 'HC_11_students', 'HC_12_students'])"
      ]
     },
     "execution_count": 84,
     "metadata": {},
     "output_type": "execute_result"
    }
   ],
   "source": [
    "studentbyclass.keys()"
   ]
  },
  {
   "cell_type": "code",
   "execution_count": 85,
   "metadata": {},
   "outputs": [
    {
     "data": {
      "text/html": [
       "<div>\n",
       "<style scoped>\n",
       "    .dataframe tbody tr th:only-of-type {\n",
       "        vertical-align: middle;\n",
       "    }\n",
       "\n",
       "    .dataframe tbody tr th {\n",
       "        vertical-align: top;\n",
       "    }\n",
       "\n",
       "    .dataframe thead th {\n",
       "        text-align: right;\n",
       "    }\n",
       "</style>\n",
       "<table border=\"1\" class=\"dataframe\">\n",
       "  <thead>\n",
       "    <tr style=\"text-align: right;\">\n",
       "      <th></th>\n",
       "      <th>name</th>\n",
       "      <th>email</th>\n",
       "      <th>phone</th>\n",
       "    </tr>\n",
       "  </thead>\n",
       "  <tbody>\n",
       "    <tr>\n",
       "      <th>1</th>\n",
       "      <td>Conor Goddard</td>\n",
       "      <td>conorgoddard@gmail.com</td>\n",
       "      <td>0151 496 0067</td>\n",
       "    </tr>\n",
       "    <tr>\n",
       "      <th>2</th>\n",
       "      <td>Joan Jenkins</td>\n",
       "      <td>joanjenkins@yahoo.com</td>\n",
       "      <td>0115 496 0699</td>\n",
       "    </tr>\n",
       "    <tr>\n",
       "      <th>3</th>\n",
       "      <td>Tracy Young</td>\n",
       "      <td>tracyyoung@hotmail.com</td>\n",
       "      <td>(0121)4960644</td>\n",
       "    </tr>\n",
       "    <tr>\n",
       "      <th>4</th>\n",
       "      <td>Dominic Ali</td>\n",
       "      <td>dominicali@yahoo.com</td>\n",
       "      <td>(0909) 879 0555</td>\n",
       "    </tr>\n",
       "    <tr>\n",
       "      <th>5</th>\n",
       "      <td>Clifford Webb</td>\n",
       "      <td>cliffordwebb@hotmail.com</td>\n",
       "      <td>0909 8790740</td>\n",
       "    </tr>\n",
       "    <tr>\n",
       "      <th>...</th>\n",
       "      <td>...</td>\n",
       "      <td>...</td>\n",
       "      <td>...</td>\n",
       "    </tr>\n",
       "    <tr>\n",
       "      <th>396</th>\n",
       "      <td>Nicole Brown</td>\n",
       "      <td>nicolebrown@hotmail.com</td>\n",
       "      <td>+44(0)306 9990975</td>\n",
       "    </tr>\n",
       "    <tr>\n",
       "      <th>397</th>\n",
       "      <td>Lorraine O'Connor</td>\n",
       "      <td>lorraineo'connor@hotmail.com</td>\n",
       "      <td>+44131 4960600</td>\n",
       "    </tr>\n",
       "    <tr>\n",
       "      <th>398</th>\n",
       "      <td>Frederick Hobbs</td>\n",
       "      <td>frederickhobbs@hotmail.com</td>\n",
       "      <td>+44909 879 0484</td>\n",
       "    </tr>\n",
       "    <tr>\n",
       "      <th>399</th>\n",
       "      <td>Amy Wells</td>\n",
       "      <td>amywells@hotmail.com</td>\n",
       "      <td>+44(0)1184960339</td>\n",
       "    </tr>\n",
       "    <tr>\n",
       "      <th>400</th>\n",
       "      <td>Tom Davies</td>\n",
       "      <td>tomdavies@gmail.com</td>\n",
       "      <td>(0141) 496 0698</td>\n",
       "    </tr>\n",
       "  </tbody>\n",
       "</table>\n",
       "<p>400 rows × 3 columns</p>\n",
       "</div>"
      ],
      "text/plain": [
       "0                 name                         email              phone\n",
       "1        Conor Goddard        conorgoddard@gmail.com      0151 496 0067\n",
       "2         Joan Jenkins         joanjenkins@yahoo.com      0115 496 0699\n",
       "3          Tracy Young        tracyyoung@hotmail.com      (0121)4960644\n",
       "4          Dominic Ali          dominicali@yahoo.com    (0909) 879 0555\n",
       "5        Clifford Webb      cliffordwebb@hotmail.com       0909 8790740\n",
       "..                 ...                           ...                ...\n",
       "396       Nicole Brown       nicolebrown@hotmail.com  +44(0)306 9990975\n",
       "397  Lorraine O'Connor  lorraineo'connor@hotmail.com     +44131 4960600\n",
       "398    Frederick Hobbs    frederickhobbs@hotmail.com    +44909 879 0484\n",
       "399          Amy Wells          amywells@hotmail.com   +44(0)1184960339\n",
       "400         Tom Davies           tomdavies@gmail.com    (0141) 496 0698\n",
       "\n",
       "[400 rows x 3 columns]"
      ]
     },
     "execution_count": 85,
     "metadata": {},
     "output_type": "execute_result"
    }
   ],
   "source": [
    "studentbyclass['HC_1_students']"
   ]
  },
  {
   "cell_type": "code",
   "execution_count": 90,
   "metadata": {},
   "outputs": [],
   "source": [
    "hc  = 'HC_12_students'"
   ]
  },
  {
   "cell_type": "code",
   "execution_count": 91,
   "metadata": {},
   "outputs": [
    {
     "data": {
      "text/plain": [
       "'HC_12'"
      ]
     },
     "execution_count": 91,
     "metadata": {},
     "output_type": "execute_result"
    }
   ],
   "source": [
    "hc.rsplit('_', 1)[0]"
   ]
  },
  {
   "cell_type": "code",
   "execution_count": null,
   "metadata": {},
   "outputs": [],
   "source": []
  }
 ],
 "metadata": {
  "kernelspec": {
   "display_name": "Python 3",
   "language": "python",
   "name": "python3"
  },
  "language_info": {
   "codemirror_mode": {
    "name": "ipython",
    "version": 3
   },
   "file_extension": ".py",
   "mimetype": "text/x-python",
   "name": "python",
   "nbconvert_exporter": "python",
   "pygments_lexer": "ipython3",
   "version": "3.7.6"
  }
 },
 "nbformat": 4,
 "nbformat_minor": 4
}
